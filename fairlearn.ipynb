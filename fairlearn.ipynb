{
 "cells": [
  {
   "cell_type": "code",
   "execution_count": 1,
   "id": "9714b6d5",
   "metadata": {},
   "outputs": [
    {
     "name": "stdout",
     "output_type": "stream",
     "text": [
      "Defaulting to user installation because normal site-packages is not writeable\n",
      "Requirement already satisfied: fairlearn in /home/ubuntu/.local/lib/python3.10/site-packages (0.10.0)\n",
      "Requirement already satisfied: numpy>=1.24.4 in /home/ubuntu/.local/lib/python3.10/site-packages (from fairlearn) (2.1.2)\n",
      "Requirement already satisfied: pandas>=2.0.3 in /home/ubuntu/.local/lib/python3.10/site-packages (from fairlearn) (2.2.3)\n",
      "Requirement already satisfied: scikit-learn>=1.2.1 in /home/ubuntu/.local/lib/python3.10/site-packages (from fairlearn) (1.5.2)\n",
      "Requirement already satisfied: scipy>=1.9.3 in /home/ubuntu/.local/lib/python3.10/site-packages (from fairlearn) (1.14.1)\n",
      "Requirement already satisfied: python-dateutil>=2.8.2 in /home/ubuntu/.local/lib/python3.10/site-packages (from pandas>=2.0.3->fairlearn) (2.9.0.post0)\n",
      "Requirement already satisfied: pytz>=2020.1 in /home/ubuntu/.local/lib/python3.10/site-packages (from pandas>=2.0.3->fairlearn) (2024.2)\n",
      "Requirement already satisfied: tzdata>=2022.7 in /home/ubuntu/.local/lib/python3.10/site-packages (from pandas>=2.0.3->fairlearn) (2024.2)\n",
      "Requirement already satisfied: joblib>=1.2.0 in /home/ubuntu/.local/lib/python3.10/site-packages (from scikit-learn>=1.2.1->fairlearn) (1.4.2)\n",
      "Requirement already satisfied: threadpoolctl>=3.1.0 in /home/ubuntu/.local/lib/python3.10/site-packages (from scikit-learn>=1.2.1->fairlearn) (3.5.0)\n",
      "Requirement already satisfied: six>=1.5 in /usr/lib/python3/dist-packages (from python-dateutil>=2.8.2->pandas>=2.0.3->fairlearn) (1.16.0)\n"
     ]
    }
   ],
   "source": [
    "!pip install fairlearn"
   ]
  },
  {
   "cell_type": "code",
   "execution_count": 2,
   "id": "6801b658",
   "metadata": {},
   "outputs": [
    {
     "ename": "SyntaxError",
     "evalue": "invalid syntax (fairlearn.py, line 2)",
     "output_type": "error",
     "traceback": [
      "Traceback \u001b[0;36m(most recent call last)\u001b[0m:\n",
      "\u001b[0m  File \u001b[1;32m~/.local/lib/python3.10/site-packages/IPython/core/interactiveshell.py:3577\u001b[0m in \u001b[1;35mrun_code\u001b[0m\n    exec(code_obj, self.user_global_ns, self.user_ns)\u001b[0m\n",
      "\u001b[0;36m  Cell \u001b[0;32mIn[2], line 2\u001b[0;36m\n\u001b[0;31m    from fairlearn.datasets import fetch_adult\u001b[0;36m\n",
      "\u001b[0;36m  File \u001b[0;32m/mnt/code/fairlearn.py:2\u001b[0;36m\u001b[0m\n\u001b[0;31m    import\u001b[0m\n\u001b[0m          ^\u001b[0m\n\u001b[0;31mSyntaxError\u001b[0m\u001b[0;31m:\u001b[0m invalid syntax\n"
     ]
    }
   ],
   "source": [
    "import pandas as pd\n",
    "from fairlearn.datasets import fetch_adult\n",
    "from sklearn.metrics import accuracy_score, precision_score\n",
    "from sklearn.tree import DecisionTreeClassifier\n",
    "\n",
    "from fairlearn.metrics import (\n",
    "    MetricFrame,\n",
    "    count,\n",
    "    false_negative_rate,\n",
    "    false_positive_rate,\n",
    "    selection_rate,\n",
    ")\n",
    "\n",
    "data = fetch_adult()\n",
    "X = pd.get_dummies(data.data)\n",
    "y_true = (data.target == \">50K\") * 1\n",
    "sex = data.data[\"sex\"]\n",
    "\n",
    "classifier = DecisionTreeClassifier(min_samples_leaf=10, max_depth=4)\n",
    "classifier.fit(X, y_true)\n",
    "y_pred = classifier.predict(X)\n",
    "\n",
    "# Analyze metrics using MetricFrame\n",
    "metrics = {\n",
    "    \"accuracy\": accuracy_score,\n",
    "    \"precision\": precision_score,\n",
    "    \"false positive rate\": false_positive_rate,\n",
    "    \"false negative rate\": false_negative_rate,\n",
    "    \"selection rate\": selection_rate,\n",
    "    \"count\": count,\n",
    "}\n",
    "metric_frame = MetricFrame(\n",
    "    metrics=metrics, y_true=y_true, y_pred=y_pred, sensitive_features=sex\n",
    ")\n",
    "metric_frame.by_group.plot.bar(\n",
    "    subplots=True,\n",
    "    layout=[3, 3],\n",
    "    legend=False,\n",
    "    figsize=[12, 8],\n",
    "    title=\"Show all metrics\",\n",
    ")\n",
    "\n",
    "# Customize plots with ylim\n",
    "metric_frame.by_group.plot(\n",
    "    kind=\"bar\",\n",
    "    ylim=[0, 1],\n",
    "    subplots=True,\n",
    "    layout=[3, 3],\n",
    "    legend=False,\n",
    "    figsize=[12, 8],\n",
    "    title=\"Show all metrics with assigned y-axis range\",\n",
    ")\n",
    "\n",
    "# Customize plots with colormap\n",
    "metric_frame.by_group.plot(\n",
    "    kind=\"bar\",\n",
    "    subplots=True,\n",
    "    layout=[3, 3],\n",
    "    legend=False,\n",
    "    figsize=[12, 8],\n",
    "    colormap=\"Accent\",\n",
    "    title=\"Show all metrics in Accent colormap\",\n",
    ")\n",
    "\n",
    "# Customize plots with kind (note that we are only plotting the \"count\" metric here because we are showing a pie chart)\n",
    "metric_frame.by_group[[\"count\"]].plot(\n",
    "    kind=\"pie\",\n",
    "    subplots=True,\n",
    "    layout=[1, 1],\n",
    "    legend=False,\n",
    "    figsize=[12, 8],\n",
    "    title=\"Show count metric in pie chart\",\n",
    ")\n",
    "\n",
    "# Saving plots\n",
    "fig = metric_frame.by_group[[\"count\"]].plot(\n",
    "    kind=\"pie\",\n",
    "    subplots=True,\n",
    "    layout=[1, 1],\n",
    "    legend=False,\n",
    "    figsize=[12, 8],\n",
    "    title=\"Show count metric in pie chart\",\n",
    ")\n",
    "\n",
    "# Don't save file during doc build\n",
    "if \"__file__\" in locals():\n",
    "    fig[0][0].figure.savefig(\"filename.png\")"
   ]
  },
  {
   "cell_type": "code",
   "execution_count": null,
   "id": "795a61ec",
   "metadata": {},
   "outputs": [],
   "source": []
  }
 ],
 "metadata": {
  "kernelspec": {
   "display_name": "Python 3 (ipykernel)",
   "language": "python",
   "name": "python3"
  },
  "language_info": {
   "codemirror_mode": {
    "name": "ipython",
    "version": 3
   },
   "file_extension": ".py",
   "mimetype": "text/x-python",
   "name": "python",
   "nbconvert_exporter": "python",
   "pygments_lexer": "ipython3",
   "version": "3.10.12"
  }
 },
 "nbformat": 4,
 "nbformat_minor": 5
}
